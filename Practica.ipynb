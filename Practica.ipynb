{
 "cells": [
  {
   "cell_type": "code",
   "execution_count": 1,
   "metadata": {},
   "outputs": [
    {
     "name": "stdout",
     "output_type": "stream",
     "text": [
      "Tarifa adulto mayor\n"
     ]
    }
   ],
   "source": [
    "#Pasaje.py\n",
    "edad = int(input ('¿Que edad tienes?'))\n",
    "if edad <2:\n",
    "    print ('Gratis')\n",
    "elif 2 < edad < 13:\n",
    "    print ('Tarifa niño')\n",
    "elif 13 < edad < 60:\n",
    "    print ('Tarifa adulto')\n",
    "else:\n",
    "    print ('Tarifa adulto mayor')"
   ]
  }
 ],
 "metadata": {
  "interpreter": {
   "hash": "242d996ee1e2124afbd2d604fe0eb50d2378ecfe9ea94cdf2ed2708850ed3411"
  },
  "kernelspec": {
   "display_name": "Python 3.10.4 64-bit",
   "language": "python",
   "name": "python3"
  },
  "language_info": {
   "codemirror_mode": {
    "name": "ipython",
    "version": 3
   },
   "file_extension": ".py",
   "mimetype": "text/x-python",
   "name": "python",
   "nbconvert_exporter": "python",
   "pygments_lexer": "ipython3",
   "version": "3.10.4"
  },
  "orig_nbformat": 4
 },
 "nbformat": 4,
 "nbformat_minor": 2
}
